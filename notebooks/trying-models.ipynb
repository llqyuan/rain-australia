{
 "cells": [
  {
   "cell_type": "markdown",
   "metadata": {},
   "source": [
    "# Transformations\n",
    "\n",
    "* Use LogEvaporation instead of Evaporation\n",
    "* It may be worthwhile to add Month as a feature\n",
    "\n",
    "# Thoughts\n",
    "\n",
    "* Use random forest method\n",
    "* Extract Month from the date, and use that instead of the full date\n",
    "* Advice for handling missing data: https://www.kaggle.com/residentmario/simple-techniques-for-missing-data-imputation\n",
    "* There are sklearn methods for random forest classification, k fold cross validation\n",
    "* Compute percentage missing: https://machinelearningmastery.com/statistical-imputation-for-missing-values-in-machine-learning/\n",
    "* Use k-fold cross validation (maybe set aside 20% as test set, and use k=5 for rest?)\n",
    "* Features with lots of missing data (Sunshine, Evaporation, Cloud9am, Cloud3pm):\n",
    "    - Either remove features, or don't remove but impute. Since so much data is missing, imputation might be risky\n",
    "* Other features with some missing data, but not much:\n",
    "    - Either impute with mean, or remove rows with missing data"
   ]
  },
  {
   "cell_type": "markdown",
   "metadata": {},
   "source": [
    "# Initial preprocessing\n",
    "\n",
    "Reference: https://pandas.pydata.org/docs/reference/api/pandas.DataFrame.html\n",
    "\n",
    "* Don't use Rainfall, use RainToday as a categorical variable\n",
    "* Perform log-transformation on Evaporation, if using. Use one of Evaporation and LogEvaporation in the model, but not both, and see which one performs better\n",
    "* Use Month (categorical/factor variable)"
   ]
  },
  {
   "cell_type": "markdown",
   "metadata": {},
   "source": [
    "# Model 1\n",
    "\n",
    "* Don't use Sunshine, Evaporation, Cloud9am, or Cloud3pm\n",
    "* For remaining numerical features, impute missing data \n",
    "* For remaining categorical features, use dummy indicator variables for each category; ignore (don't remove) if data missing"
   ]
  },
  {
   "cell_type": "markdown",
   "metadata": {},
   "source": [
    "### Performance (from models/model1)\n",
    "\n",
    "Ran build_feature.py to generate training and test data. Ran train_test_model.py to select a random forest classifier with 500 trees (output in results-train-test.txt). Assessed performance with evaluate_model.py (output in results-evaluate.txt)\n",
    "* Accuracy: 85.59%\n",
    "* Precision: 77.10%\n",
    "* Recall: 49.36%"
   ]
  },
  {
   "cell_type": "markdown",
   "metadata": {},
   "source": [
    "# Model 2\n",
    "\n",
    "* Use all or some of Sunshine, (Log)Evaporation, Cloud9am, Cloud3pm. Impute missing data\n",
    "* For remaining numerical features, impute missing data \n",
    "* For remaining categorical features, use dummy indicator variables for each category; ignore (don't remove) if data missing"
   ]
  },
  {
   "cell_type": "markdown",
   "metadata": {},
   "source": [
    "# Model 3\n",
    "* Like Model 1, but not using months at all"
   ]
  },
  {
   "cell_type": "markdown",
   "metadata": {},
   "source": [
    "# Model 4\n",
    "* Like Model 2, but not using months at all"
   ]
  }
 ],
 "metadata": {
  "interpreter": {
   "hash": "31f2aee4e71d21fbe5cf8b01ff0e069b9275f58929596ceb00d14d90e3e16cd6"
  },
  "kernelspec": {
   "display_name": "Python 3.7.3 64-bit",
   "language": "python",
   "name": "python3"
  },
  "language_info": {
   "codemirror_mode": {
    "name": "ipython",
    "version": 3
   },
   "file_extension": ".py",
   "mimetype": "text/x-python",
   "name": "python",
   "nbconvert_exporter": "python",
   "pygments_lexer": "ipython3",
   "version": "3.7.3"
  },
  "orig_nbformat": 4
 },
 "nbformat": 4,
 "nbformat_minor": 2
}
