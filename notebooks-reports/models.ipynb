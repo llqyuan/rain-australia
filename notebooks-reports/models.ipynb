{
 "cells": [
  {
   "cell_type": "markdown",
   "metadata": {},
   "source": [
    "# Initial preprocessing\n",
    "\n",
    "* Perform log-transformation on Evaporation, if using. Use one of Evaporation and LogEvaporation in the model, but not both, and see which one performs better\n",
    "* May want to use Month (categorical/factor variable)"
   ]
  },
  {
   "cell_type": "markdown",
   "metadata": {},
   "source": [
    "# Chosen model\n",
    "\n",
    "Choose Model 4 as the final model. (However, all models performed similarly.)\n",
    "\n",
    "Evaluated performance on the test set using models/model4/evaluate_model.py (output in results-evaluate.txt).\n",
    "* Accuracy: 85.53%\n",
    "* Precision: 77.35%\n",
    "* Recall: 47.97%\n",
    "\n",
    "# The models\n",
    "\n",
    "### Model 1\n",
    "\n",
    "* Don't use Sunshine, Evaporation, Cloud9am, or Cloud3pm since these features have a lot of missing data in the training set\n",
    "* Use RainToday categorical variable instead of Rainfall\n",
    "* For remaining numerical features, impute missing data \n",
    "* For remaining categorical features, use dummy indicator variables for each category; ignore (don't remove) if data missing\n",
    "* Used 500 trees\n",
    "\n",
    "Performance (files from models/model1): Ran build_feature.py to generate training and test data. Ran train_test_model.py to select a random forest classifier with 500 trees (output in results-train-test.txt).\n",
    "\n",
    "5-fold cross-validation results:\n",
    "* Accuracy: mean 0.8556 (85.56%), standard deviation 0.0008279\n",
    "* Precision: mean 0.7715 (77.15%), standard deviation 0.004204\n",
    "* Recall: mean 0.4816 (48.16%), standard deviation 0.008902"
   ]
  },
  {
   "cell_type": "markdown",
   "metadata": {},
   "source": [
    "### Model 2\n",
    "\n",
    "* Use all or some of Sunshine, (Log)Evaporation, Cloud9am, Cloud3pm. Impute missing data\n",
    "* Use RainToday categorical variable\n",
    "* For remaining numerical features, impute missing data \n",
    "* For remaining categorical features, use dummy indicator variables for each category; ignore (don't remove) if data missing\n",
    "* Used 500 trees\n",
    "\n",
    "Performance (files from models/model2): Ran build_feature.py to generate training and test data. Ran train_test_model.py to select a random forest classifier with 500 trees (output in results-train-test.txt).\n",
    "\n",
    "5-fold cross-validation results:\n",
    "* Accuracy: mean 0.8577 (85.77%), standard deviation 0.002935\n",
    "* Precision: mean 0.7729 (77.29%), standard deviation 0.008674\n",
    "* Recall: mean 0.4910 (49.10%), standard deviation 0.008869"
   ]
  },
  {
   "cell_type": "markdown",
   "metadata": {},
   "source": [
    "### Model 3\n",
    "\n",
    "* Choose Model 1 (chosen from above using to cross-validation), but don't use months at all\n",
    "\n",
    "Performance (files from models/model3): Ran build_feature.py to generate training and test data. Ran train_test_model.py to select a random forest classifier with 500 trees (output in results-train-test.txt).\n",
    "\n",
    "5-fold cross-validation results:\n",
    "* Accuracy: mean 0.8537 (85.37%), standard deviation 0.002018\n",
    "* Precision: mean 0.7672 (76.72%), standard deviation 0.006683\n",
    "* Recall: mean 0.4815 (48.16%), standard deviation 0.007381"
   ]
  },
  {
   "cell_type": "markdown",
   "metadata": {},
   "source": [
    "### Model 4\n",
    "* Choose Model 1 (chosen from above using cross-validation), but use Rainfall instead of RainToday\n",
    "\n",
    "Performance (files from models/model4): Ran build_feature.py to generate training and test data. Ran train_test_model.py to select a random forest classifier with 500 trees (output in results-train-test.txt). \n",
    "\n",
    "\n",
    "500 mean (accuracy, precision, recall): 0.8564382149828795, 0.7750564018068411, 0.4866304337217682\n",
    "500 standard deviation (accuracy, precision, recall): 0.0014469420384901049, 0.005532380281470796, 0.008416575035813481\n",
    "\n",
    "\n",
    "5-fold cross-validation results:\n",
    "* Accuracy: mean 0.8564 (85.64%), standard deviation 0.001447\n",
    "* Precision: mean 0.7751 (77.51%), standard deviation 0.005532\n",
    "* Recall: mean 0.4866 (48.66%), standard deviation 0.008417"
   ]
  }
 ],
 "metadata": {
  "interpreter": {
   "hash": "31f2aee4e71d21fbe5cf8b01ff0e069b9275f58929596ceb00d14d90e3e16cd6"
  },
  "kernelspec": {
   "display_name": "Python 3.7.3 64-bit",
   "language": "python",
   "name": "python3"
  },
  "language_info": {
   "codemirror_mode": {
    "name": "ipython",
    "version": 3
   },
   "file_extension": ".py",
   "mimetype": "text/x-python",
   "name": "python",
   "nbconvert_exporter": "python",
   "pygments_lexer": "ipython3",
   "version": "3.7.3"
  },
  "orig_nbformat": 4
 },
 "nbformat": 4,
 "nbformat_minor": 2
}
